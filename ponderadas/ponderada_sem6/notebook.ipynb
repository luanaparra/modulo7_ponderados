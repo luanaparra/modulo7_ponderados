{
 "cells": [
  {
   "cell_type": "code",
   "execution_count": null,
   "id": "9f892448-2d06-4630-9803-8931cb6cb37b",
   "metadata": {},
   "outputs": [],
   "source": [
    "!pip3 install pycaret[full]"
   ]
  },
  {
   "cell_type": "code",
   "execution_count": null,
   "id": "96a056ce-cdc4-478b-bd2c-88eb57822b86",
   "metadata": {},
   "outputs": [],
   "source": [
    "!pip install --upgrade pandas"
   ]
  },
  {
   "cell_type": "code",
   "execution_count": null,
   "id": "5c578b0f-7925-47bd-9195-b8ac2d20eaa7",
   "metadata": {},
   "outputs": [],
   "source": [
    "import pandas as pd"
   ]
  },
  {
   "cell_type": "markdown",
   "id": "9bac9dfd-c251-414f-a2a4-90e6bb471b1c",
   "metadata": {},
   "source": [
    "### Pré-processamento dos dados"
   ]
  },
  {
   "cell_type": "code",
   "execution_count": null,
   "id": "0a343a1c-e68d-4b82-849b-5b726abca32b",
   "metadata": {},
   "outputs": [],
   "source": [
    "df=pd.read_csv('/content/Mall_Customers.csv')\n",
    "\n",
    "df = df.drop(\"CustomerID\", axis=1)\n",
    "\n",
    "df = pd.get_dummies(df, columns=['Gender'], prefix=['Gender'], drop_first=True)\n",
    "\n",
    "df['Income'] = df['Annual Income (k$)'] * 5 / 12\n",
    "df['Income'] = df['Income'].round(2)\n",
    "df= df.drop('Annual Income (k$)', axis=1)\n",
    "\n",
    "df = df.rename(columns={'Spending Score (1-100)': 'Score', \"Gender_Male\": \"Gender\"} )"
   ]
  },
  {
   "cell_type": "markdown",
   "id": "7bd5012f-d927-49be-af8a-0869ca320f3e",
   "metadata": {},
   "source": [
    "### Comparação de modelos"
   ]
  },
  {
   "cell_type": "code",
   "execution_count": null,
   "id": "391eecd2-4e3a-4de2-8de3-39ff03574be1",
   "metadata": {},
   "outputs": [],
   "source": [
    "from pycaret.regression import setup, compare_models\n",
    "\n",
    "reg1 = setup(data = df, target = 'Score', session_id=123, train_size=0.90)\n",
    "\n",
    "compare_models()"
   ]
  },
  {
   "cell_type": "markdown",
   "id": "58b34fc4-e090-4337-8318-b03939ee1edc",
   "metadata": {},
   "source": [
    "### Modelo escolhido"
   ]
  },
  {
   "cell_type": "code",
   "execution_count": null,
   "id": "73d03faa-6283-4cf0-87a3-6d268cd261e3",
   "metadata": {},
   "outputs": [],
   "source": [
    "from pycaret.regression import create_model, finalize_model, save_model\n",
    "\n",
    "knn_model = create_model('knn')\n",
    "final_knn_model = finalize_model(knn_model)\n",
    "save_model(final_knn_model, 'model')"
   ]
  }
 ],
 "metadata": {
  "kernelspec": {
   "display_name": "Python 3 (ipykernel)",
   "language": "python",
   "name": "python3"
  },
  "language_info": {
   "codemirror_mode": {
    "name": "ipython",
    "version": 3
   },
   "file_extension": ".py",
   "mimetype": "text/x-python",
   "name": "python",
   "nbconvert_exporter": "python",
   "pygments_lexer": "ipython3",
   "version": "3.10.11"
  }
 },
 "nbformat": 4,
 "nbformat_minor": 5
}
